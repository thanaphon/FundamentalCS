{
 "cells": [
  {
   "cell_type": "markdown",
   "metadata": {},
   "source": [
    "วัตถุประสงค์: (20 pts)\n",
    "\n",
    "    1) ให้นักศึกษาฝึกการวาด call tree ของ recursive function\n",
    "\n",
    "Goal: be able to draw function tree of the following recursion function \n",
    "\n",
    "TODO: \n",
    "\n",
    "1)  ศึกษาการทำงานของ recursive function foo(x,y,z) \n",
    "2)  วาด call tree ของ foo(3,4,5) และ foo(4,4,4) \n",
    "    และการเขียนการส่งต่อค่าการคำนวณ ของ function foo ในกระดาษเปล่า\n",
    "    เปรียบเทียบค่าที่ได้ จากการคำนวณในกระดาษ กับค่าที่ได้จากโปรแกรม "
   ]
  },
  {
   "cell_type": "code",
   "execution_count": 1,
   "metadata": {},
   "outputs": [
    {
     "name": "stdout",
     "output_type": "stream",
     "text": [
      "call foo with  3 4 5\n",
      "call foo with  2 4 3\n",
      "call foo with  1 4 1 max = 4\n",
      "call foo with  2 2 3\n",
      "call foo with  1 2 1 max = 2\n",
      "call foo with  2 0 3 max = 3\n",
      "call foo with  2 2 0 max = 2\n",
      "call foo with  2 4 0 max = 4\n",
      "call foo with  3 2 5\n",
      "call foo with  2 2 3\n",
      "call foo with  1 2 1 max = 2\n",
      "call foo with  2 0 3 max = 3\n",
      "call foo with  2 2 0 max = 2\n",
      "call foo with  3 0 5 max = 5\n",
      "call foo with  3 2 2 max = 3\n",
      "call foo with  3 4 2 max = 4\n"
     ]
    },
    {
     "data": {
      "text/plain": [
       "34"
      ]
     },
     "execution_count": 1,
     "metadata": {},
     "output_type": "execute_result"
    }
   ],
   "source": [
    "def foo(x,y,z):\n",
    "    if x <= 1 or y <= 1 or z <= 2:\n",
    "        print ('call foo with ', x,y,z , 'max =',max(x,y,z))\n",
    "        return max(x,y,z)\n",
    "    else:\n",
    "        print ('call foo with ', x,y,z)\n",
    "        return foo(x-1,y,z-2) + foo(x,y-2,z) + foo(x,y,z-3)\n",
    "    \n",
    "foo(3,4,5)"
   ]
  },
  {
   "cell_type": "code",
   "execution_count": null,
   "metadata": {},
   "outputs": [],
   "source": []
  }
 ],
 "metadata": {
  "kernelspec": {
   "display_name": "Python 3",
   "language": "python",
   "name": "python3"
  },
  "language_info": {
   "codemirror_mode": {
    "name": "ipython",
    "version": 3
   },
   "file_extension": ".py",
   "mimetype": "text/x-python",
   "name": "python",
   "nbconvert_exporter": "python",
   "pygments_lexer": "ipython3",
   "version": "3.6.5"
  }
 },
 "nbformat": 4,
 "nbformat_minor": 2
}
