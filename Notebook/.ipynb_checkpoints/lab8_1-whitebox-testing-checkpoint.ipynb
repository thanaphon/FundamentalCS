{
 "cells": [
  {
   "cell_type": "markdown",
   "metadata": {},
   "source": [
    "วัตถุประสงค์:  \n",
    "\n",
    "1) เพื่อให้นักศึกษาได้ฝึกการทำ white/ glass box testing\n",
    "2) เข้าใจคำศัพท์พื้นฐานของการทำ software testing\n",
    "    - Full paths cover\n",
    "    - Equivalent class\n",
    "\n",
    "\n",
    "ใบงาน: \n",
    "\n",
    "    1)  ศึกษาตัวอย่างการทำ whitebox testing เเละ นิยามของ Equivalence class จากตัวอย่างข้างล่าง \n",
    "    2)  ตอบคำถาม ใน Section 2 เเละ 3\n"
   ]
  },
  {
   "cell_type": "markdown",
   "metadata": {},
   "source": [
    "SECTION 1:\n",
    "\n",
    "Definition: an equivalence class (input) คือ เซตของค่าของอินพุท ที่เราคาดหวังว่าจะให้เอาพุทชุดที่คล้ายคลึงกันภายใต้โปรแกรมที่เราทำการทดสอบ  (An equivalence class is a set or range of input domain values that can reasonably be expected to cause “similar” responses from the application under test)\n",
    "\n",
    "Definition: full path testing คือการทำการทดสอบ software โดยการศึกษาโคดของ software เพื่อหาเซตของ input (test cases) ที่สามารถตวรจสอบทุก ๆ การทำงานที่เป็นไปได้ของ software  \n",
    "\n",
    "ยกตัวอย่างเช่น "
   ]
  },
  {
   "cell_type": "code",
   "execution_count": 2,
   "metadata": {},
   "outputs": [
    {
     "name": "stdout",
     "output_type": "stream",
     "text": [
      "negative\n",
      "zero\n",
      "plus\n"
     ]
    }
   ],
   "source": [
    "def sign(x):\n",
    "    ''' \n",
    "    input: an integer x\n",
    "    output: sign of x \n",
    "    Ex: sign(-7) = 'negative', sign(3) = 'plus' sign(0) = 'zero' \n",
    "    '''\n",
    "    if x > 0:\n",
    "        return ('plus')\n",
    "    elif x == 0:\n",
    "        return ('zero')\n",
    "    else:\n",
    "        return ('negative')\n",
    "    \n",
    "print(sign(-1))\n",
    "print(sign(0))\n",
    "print(sign(3))"
   ]
  },
  {
   "cell_type": "code",
   "execution_count": null,
   "metadata": {},
   "outputs": [],
   "source": [
    "เราจะเห็นได้ว่าในกรณีฟังชัน sign เราสามารถแบ่ง equivalence classes ออกได้เป็น 3 classes ได้แก่ \n",
    "\n",
    "1) Equivalence class สำหรับ 'plus'  ได้แก่ x = [1,2,3,4,.... )\n",
    "2) Equivalence class สำหรับ 'negative'  ได้แก่ x= ( ...., -3, -2 , -1]\n",
    "3) Equivalence class สำหรับ 'zero' ได้แก่ x = [0]\n",
    "\n",
    "ซึ่งเราจะสังเกตุได้ว่า ในการทดสอบ  fullpath testing นั้นเราไม่จำเป็นต้องทำการทดสอบ input ทุกค่า (จำนวนเต็มทุกจำนวน)\n",
    "เพียงแค่เลือกสมาชิกในแต่ละ class มาอย่างละหนึ่งตัวเพื่อทำการทดสอบ ก็เพียงพอแล้ว Ex x = { -5, 0 ,1 }\n",
    "\n",
    "\n",
    "Self-check: ให้น้อง ๆ ลองลืมพยายามลืม definition ของ sign ฟังก์ชั่นแล้วดูที่ code อย่างเดียว\n",
    "น้อง ๆ สามารถอนุมาน equivalence classes ของโปรแกรมได้หรือไม่\n",
    "\n",
    "\n",
    "เมื่อเข้าใจนิยามของ Equivalence class สำหรับโปรแกรม Input เเล้วให้ตอบคำถามใน Secion 2 และ 3"
   ]
  }
 ],
 "metadata": {
  "kernelspec": {
   "display_name": "Python 3",
   "language": "python",
   "name": "python3"
  },
  "language_info": {
   "codemirror_mode": {
    "name": "ipython",
    "version": 3
   },
   "file_extension": ".py",
   "mimetype": "text/x-python",
   "name": "python",
   "nbconvert_exporter": "python",
   "pygments_lexer": "ipython3",
   "version": "3.6.5"
  }
 },
 "nbformat": 4,
 "nbformat_minor": 2
}
