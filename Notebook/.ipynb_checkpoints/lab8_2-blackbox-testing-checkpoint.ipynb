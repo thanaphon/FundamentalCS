{
 "cells": [
  {
   "cell_type": "markdown",
   "metadata": {},
   "source": [
    "ฺฺฺ# Blackbox Testing: (OPTIONAL ไม่ต้องส่ง)\n",
    "\n",
    "\n",
    "ใบงาน \n",
    "\n",
    "   1) เขียนเทสเคสเพื่อใช้ในการทดสอบ function power(a,b)  จาก lab7_0.py \n",
    "    ที่น้อง ๆ ได้ทำการ implement  ก่อนหน้านี้\n",
    " \n",
    "    ทำการรัน โปรแกรมกับ Test cases ที่น้อง ๆ ได้สร้างขึ้น\n"
   ]
  },
  {
   "cell_type": "markdown",
   "metadata": {},
   "source": [
    "ตัวอย่าง:\n",
    "\n",
    "function iter_mul(a,b): \n",
    "      '''\n",
    "      input: an interger a and a natural number b  = \\[0,1,2,...)\n",
    "      output: a*b = (a+a+...+a) b times  \n",
    "      '''\n",
    "      \n",
    "      \n",
    "Blackbox testing:\n",
    "\n",
    "    จากโปรแกรม secification กำหนดให้ input a เป็น integer และ b เป็นจำนวนนับ ดังนั้น โดเมนของ อินพุทคือ (Integer x Nat ) \n",
    "    ซึ่งเป็นไปไม่ได้ที่จะทำการทดสอบ input ทั้งหมดแต่ สิ่งที่เราควรทำคือ ทดสอบอินพุทที่ อาจจะทำให้โปรแกรม error ยกตัวอย่างเช่น input \n",
    "    ที่ไม่เป็นไปตาม program specification, หรือ input ที่เป็นบริเวณขอบ ๆ ของโดเมน และ อินพุทที่มีความสำคัญต่อ properties ของฟังก์ชั่น \n",
    "    definition ยกตัวอย่างเช่น จากสมบัติพื้นฐานของการคูณ เราควรจะต้องทำการทดสอบ\n",
    "    \n",
    "    Variable b\n",
    "              p1) คุณสมบัติการ คูณด้วย 0 , b = 0\n",
    "              p2) คุณสมบัติของ identify ของการคูณ,  b = 1\n",
    "              p3) b > 1\n",
    "\n",
    "              p4) precondition ของโปรเเกรม specification  b < 0, exception      \n",
    "    Variabel a\n",
    "              p5) a = 0\n",
    "              p6) a > 0\n",
    "              p7) a < 0 \n",
    "    \n",
    "    Test set : properties of a x properties of b \n",
    "    \n",
    "            =       (p5,p6,p7)x (p1) = { (0,0), (1,0), (-1,0) }  -> equivalence class for a*0\n",
    "            union   (p5,p6,p7)x (p2) = { (0,1), (1,1), (-1,1) }  -> equivalence class for a*1\n",
    "            union   (p5,p6,p7)x (p3) = { (0,2), (2,2), (-2,2) }  -> equivalence class for a*b\n",
    "            union          _  x (p4) = { (_, -1) }               -> equivalence class for negative b\n",
    "            "
   ]
  }
 ],
 "metadata": {
  "kernelspec": {
   "display_name": "Python 3",
   "language": "python",
   "name": "python3"
  },
  "language_info": {
   "codemirror_mode": {
    "name": "ipython",
    "version": 3
   },
   "file_extension": ".py",
   "mimetype": "text/x-python",
   "name": "python",
   "nbconvert_exporter": "python",
   "pygments_lexer": "ipython3",
   "version": "3.6.5"
  }
 },
 "nbformat": 4,
 "nbformat_minor": 2
}
