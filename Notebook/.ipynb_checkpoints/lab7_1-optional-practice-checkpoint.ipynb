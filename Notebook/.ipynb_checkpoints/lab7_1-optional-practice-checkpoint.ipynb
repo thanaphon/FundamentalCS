{
 "cells": [
  {
   "cell_type": "markdown",
   "metadata": {},
   "source": [
    "OPTIONAL: ไม่ต้องส่ง เอาไว้ฝึกทำในเวลาว่าง\n",
    "\n",
    "โจทย์:   \n",
    "    แก้ไข โปรแกรม fib ให้สามารถรองรับ input ที่เป็นจำนวนเต็มลบ ได้ โดยอาศัยการอนุมาณสูตร จากการเเทนค่า  (ตัวอย่างจาก Hint section)\n",
    "    ให้น้อง ๆ เดาสูตร จากความสัมพันธ์ นี้ได้โดยการ ลองคำนวณหาค่า F(-1), F(-2), F(-3), ..... \n",
    "    เเล้วสังเกตความสัมพันธ์ระหว่าง  F(n) กับ F(-n)\n",
    "  "
   ]
  },
  {
   "cell_type": "code",
   "execution_count": 3,
   "metadata": {},
   "outputs": [],
   "source": [
    "def fib(n):\n",
    "    '''\n",
    "    take an integer n and return fibonacci number \n",
    "    defined as the following \n",
    "    f(0) = 0, f(1) = 1, f(n) = f(n-1) + f(n-2) \n",
    "    '''\n",
    "    if n == 0:\n",
    "        return 0\n",
    "    elif n == 1:\n",
    "        return 1\n",
    "    else:\n",
    "        return fib(n-1)+ fib(n-2)"
   ]
  },
  {
   "cell_type": "markdown",
   "metadata": {},
   "source": [
    "######################################################################## \n",
    "  Fixed the above function to cover fibonacci of negative number \n",
    "########################################################################\n",
    "    HINT (คำใบ้):  \n",
    "       \n",
    "    F(n)   = F(n-1) + F(n-2)\n",
    "    F(n-2) = F(n) - F(n-1)  \n",
    "    F(-1)  = F(1) - F(0)\n",
    "    \n",
    "     Can you guess the formula? of F(-n)?   \n",
    " \n",
    "     use iteration method to enumerate F(-2),........ F(-10)\n",
    "     What is the relation between F(n) and F(-n) ?  \n",
    "     now it's time to fixed the code \n",
    "########################################################################"
   ]
  },
  {
   "cell_type": "markdown",
   "metadata": {},
   "source": [
    "Solution\n",
    "\n",
    "\n",
    "\n",
    "\n",
    "\n",
    "\n",
    "\n",
    "Try to work on the problem before seeing the solution\n",
    "\n",
    "\n",
    "\n",
    "\n",
    "\n",
    "\n",
    "\n",
    "\n",
    "\n",
    "\n",
    "\n",
    "\n",
    "\n",
    "\n",
    "\n",
    "\n",
    "\n",
    "\n"
   ]
  },
  {
   "cell_type": "code",
   "execution_count": null,
   "metadata": {},
   "outputs": [],
   "source": [
    "def fib_neg(n):\n",
    "    '''\n",
    "    take any integer n and return fibonacci number \n",
    "    defined as the following \n",
    "        f(0) = 0, f(1) = 1, f(n) = f(n-1) + f(n-2) \n",
    "    '''\n",
    "    #put your code here\n",
    "    if n == 0:\n",
    "        return 0\n",
    "    elif n == 1:\n",
    "        return 1\n",
    "    else:\n",
    "        if n > 0:\n",
    "            return (fib(n-1)+ fib(n-2))\n",
    "        else: \n",
    "            return (-1)**n * (fib(abs(n)-1)+ fib(abs(n)-2))  "
   ]
  }
 ],
 "metadata": {
  "kernelspec": {
   "display_name": "Python 3",
   "language": "python",
   "name": "python3"
  },
  "language_info": {
   "codemirror_mode": {
    "name": "ipython",
    "version": 3
   },
   "file_extension": ".py",
   "mimetype": "text/x-python",
   "name": "python",
   "nbconvert_exporter": "python",
   "pygments_lexer": "ipython3",
   "version": "3.6.5"
  }
 },
 "nbformat": 4,
 "nbformat_minor": 2
}
