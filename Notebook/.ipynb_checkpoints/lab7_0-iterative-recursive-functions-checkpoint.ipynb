{
 "cells": [
  {
   "cell_type": "markdown",
   "metadata": {},
   "source": [
    "  RECURSIVE vs ITERATIVE\n",
    "  \n",
    "  วัตถุประสงค์:  (20 pts)\n",
    "  \n",
    "  1) เพื่อให้นักศึกษาฝึกเขียนฟังก์ชันแบบ recursive และ iterative styles \n",
    "  \n",
    "  TODO:\n",
    "  \n",
    "    1)     เขียนฟังก์ชั่นจาก program specification ที่กำหนดให้ โดยใช้ iterative หรือ recursive programming styles  \n",
    "    (Write codes for a given program specification using iterative fn and recursive fn )\n",
    "    \n",
    "        a) complete function iter_mul\n",
    "        b) complete function recur_mul\n",
    "        c) complete function power(a,b)\n",
    "  \n",
    "    \n",
    "    2) ทำการแปลงโคดจาก iterative function เป็น recursive function และจาก recursive เป็น iterative \n",
    "    (Convert a given recursive fn to iterative fn and the otherway around)\n",
    "    \n",
    "        a) implement fib  using iterative method "
   ]
  },
  {
   "cell_type": "code",
   "execution_count": null,
   "metadata": {},
   "outputs": [],
   "source": [
    "def iter_mul(a,b):\n",
    "      '''\n",
    "      Implement multiplication function using iterative style: \n",
    "      \n",
    "      input: an interger a and a natural number b \n",
    "      output a*b  \n",
    "      NOTE: only allow to use build in + function cannot use *\n",
    "      '''\n",
    "    #Add your code here    \n",
    "    \n",
    "    \n",
    "    \n",
    "    \n",
    "    \n",
    "    \n",
    "    "
   ]
  },
  {
   "cell_type": "code",
   "execution_count": 1,
   "metadata": {},
   "outputs": [],
   "source": [
    "def recur_mul(a,b):\n",
    "      '''\n",
    "      Implement multiplication function using recursive style: \n",
    "      input: an interger a and a natural number b \n",
    "      output a*b  \n",
    "      NOTE: only allow to use build in + function cannot use *\n",
    "      '''\n",
    "    #Add your code here\n",
    "    \n",
    "    # Base case \n",
    "      \n",
    "    # Recur on the smaller problem \n",
    "\n",
    "        \n",
    "        \n",
    "        \n",
    "        \n",
    "        \n",
    "        \n",
    "        \n",
    "        \n",
    "        "
   ]
  },
  {
   "cell_type": "code",
   "execution_count": null,
   "metadata": {},
   "outputs": [],
   "source": [
    "def power(a,b):\n",
    "      '''\n",
    "      Implement power function using recursive style (without buildin **)\n",
    "      input: an interger a and a natural number b\n",
    "      output a^b  \n",
    "      '''\n",
    "    #Add your code here    \n",
    "    \n",
    "    \n",
    "    \n",
    "    \n",
    "    \n",
    "    \n",
    "    "
   ]
  },
  {
   "cell_type": "code",
   "execution_count": null,
   "metadata": {},
   "outputs": [],
   "source": [
    "def fib(n):\n",
    "    '''\n",
    "    take an integer n and return fibonacci number \n",
    "    defined as the following \n",
    "    f(0) = 0, f(1) = 1, f(n) = f(n-1) + f(n-2) \n",
    "    '''\n",
    "    if n == 0:\n",
    "        return 0\n",
    "    elif n == 1:\n",
    "        return 1\n",
    "    else:\n",
    "        return fib(n-1)+ fib(n-2)"
   ]
  },
  {
   "cell_type": "code",
   "execution_count": null,
   "metadata": {},
   "outputs": [],
   "source": [
    "def iter_fib(n):\n",
    "    '''\n",
    "    Implement fib in iterative style\n",
    "    \n",
    "    take a natural number n and return fibonacci number \n",
    "    defined as the following \n",
    "    f(0) = 0, f(1) = 1, f(n) = f(n-1) + f(n-2) \n",
    "    ''' \n",
    "    #Add your code here\n",
    "    \n",
    "    \n",
    "    "
   ]
  }
 ],
 "metadata": {
  "kernelspec": {
   "display_name": "Python 3",
   "language": "python",
   "name": "python3"
  },
  "language_info": {
   "codemirror_mode": {
    "name": "ipython",
    "version": 3
   },
   "file_extension": ".py",
   "mimetype": "text/x-python",
   "name": "python",
   "nbconvert_exporter": "python",
   "pygments_lexer": "ipython3",
   "version": "3.6.5"
  }
 },
 "nbformat": 4,
 "nbformat_minor": 2
}
