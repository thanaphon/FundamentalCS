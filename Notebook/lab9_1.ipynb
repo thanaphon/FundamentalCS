{
 "cells": [
  {
   "cell_type": "markdown",
   "metadata": {},
   "source": [
    "วัตถุประสงค์:\n",
    "           \n",
    "1) เพื่อให้นักศึกษาได้ฝึกการสร้าง Class หรือ user define type \n",
    "        - เข้าใจไวยกรณ์ของการสร้าง Class โดยใช้ภาษา Python \n",
    "        - สามารถสร้างและเรียกใช้ object / instance ของ Class ที่นักศึกษาได้ทำการเขียนขึ้น\n",
    "\n",
    "\n",
    "2) เข้าใจถึงกาทำงานของ constructor functions และ พัฒนาหรือทำการ define basic constructors ต่าง ๆ ได้ \n",
    "        - เข้าใจว่า __init__,  __str__, __eq__, __add__ จะถูกเรียกใช้เมื่อไหร่เป็นต้น \n",
    "        - สามารถ implement ฟังก์ชั่นข้างต้น ตามที่ program spcification กำหนดให้ได้\n",
    "        \n",
    "3) เข้าใจถึงความแตกต่างของ ชนิดของ data attributes:  public, protect, and private ของ python \n",
    "\n",
    "4) เข้าใจถึงความแตกต่างของ class variable และ data attribute \n",
    "\n",
    "5) เข้าใจถึงความสำคัญของการทำ class inheritance \n",
    "\n",
    "6) เข้าใจลำดับในการเข้าถึง attributes ต่าง ๆ ของ instance  \n",
    "\n",
    "\n",
    "\n",
    "ใบงาน:\n",
    "\n",
    "1)  ให้ศึกษา ศึกษาตัวอย่างการสร้าง class จาก section ที่ 1   \n",
    "\n",
    "\n",
    "\n",
    "2)  ให้นักศึกษา ตอบคำถามใน section ที่สอง\n",
    "\n"
   ]
  },
  {
   "cell_type": "code",
   "execution_count": 1,
   "metadata": {},
   "outputs": [
    {
     "name": "stdout",
     "output_type": "stream",
     "text": [
      "created a new instance  <__main__.MyFirstclass object at 0x000002DF7749ACC0>\n",
      "['_MyFirstclass__x', '__class__', '__delattr__', '__dict__', '__dir__', '__doc__', '__eq__', '__format__', '__ge__', '__getattribute__', '__gt__', '__hash__', '__init__', '__init_subclass__', '__le__', '__lt__', '__module__', '__ne__', '__new__', '__reduce__', '__reduce_ex__', '__repr__', '__setattr__', '__sizeof__', '__str__', '__subclasshook__', '__weakref__', '_x', 'counter', 'data', 'get_x', 'set_x', 'x']\n",
      "class variable: counter = 1\n",
      "class variable: counter = 1\n",
      "created a new instance  <__main__.MyFirstclass object at 0x000002DF7749ADD8>\n",
      "class variable: counter = 2\n",
      "class variable: counter = 2\n",
      "class variable: counter = 2\n",
      "public_a\n",
      "protect_a\n",
      "Cannot access private data directly\n",
      "private_a\n"
     ]
    }
   ],
   "source": [
    "\n",
    "class MyFirstclass(object):\n",
    "    \n",
    "#class variable :    \n",
    "    counter = 0\n",
    "    \n",
    "#class constructors:   __fn__(self): \n",
    "    def __init__(self,init_values = 'Default'):\n",
    "        self.data = init_values\n",
    "\n",
    "        # Type of data attributes\n",
    "        self.x = 'public_a'  # Public variable \n",
    "        self._x = 'protect_a' # Protect variable   \n",
    "        self.__x = 'private_a' # private variable\n",
    "        print('created a new instance ', self)\n",
    "        #Counting number of object being created อัพเดทจำนวนของ instances ของ class Myclass ที่ถูกสร้างขึ้น\n",
    "        MyFirstclass.counter += 1 \n",
    "\n",
    "    def get_x(self):\n",
    "        return(self.__x)\n",
    "    def set_x(self,newValue):\n",
    "        self.__x = newValue\n",
    "        \n",
    "#ทำสร้าง instance me ของ class MyClass  \n",
    "me = MyFirstclass() \n",
    "# เเสดง attribute ทั้งหมดของ object me \n",
    "print(dir(me))\n",
    "\n",
    "#สังเกตุ การเรียกใช้ และค่าของ class variable  \n",
    "print('class variable: counter =', MyFirstclass.counter)\n",
    "print('class variable: counter =', me.counter)\n",
    "\n",
    "#สร้าง object meme \n",
    "meme = MyFirstclass()\n",
    "#สังเกตุ การเรียกใช้ และค่าของ class variable  \n",
    "print('class variable: counter =', MyFirstclass.counter)\n",
    "print('class variable: counter =', me.counter)\n",
    "print('class variable: counter =', meme.counter)\n",
    "\n",
    "\n",
    "#ให้นักศึกษาสังเกตุการ เรียกใช้ data attributes \n",
    "print(me.x) \n",
    "print(me._x) \n",
    "try:\n",
    "    print(me.__x)\n",
    "    \n",
    "except AttributeError:\n",
    "    print('Cannot access private data directly')\n",
    "    \n",
    "print(me.get_x()) \n",
    "\n",
    "\n",
    "\n",
    "        "
   ]
  },
  {
   "cell_type": "code",
   "execution_count": 2,
   "metadata": {},
   "outputs": [
    {
     "name": "stdout",
     "output_type": "stream",
     "text": [
      "created a new instance  Attribute of my child: ['_MyFirstclass__x', '__class__', '__delattr__', '__dict__', '__dir__', '__doc__', '__eq__', '__format__', '__ge__', '__getattribute__', '__gt__', '__hash__', '__init__', '__init_subclass__', '__le__', '__lt__', '__module__', '__ne__', '__new__', '__reduce__', '__reduce_ex__', '__repr__', '__setattr__', '__sizeof__', '__str__', '__subclasshook__', '__weakref__', '_x', 'counter', 'data', 'get_x', 'set_x', 'x']\n",
      "3\n",
      "3\n"
     ]
    }
   ],
   "source": [
    "# Inheritance example\n",
    "class MySecondClass(MyFirstclass):\n",
    "    # use the __init__ from Parent class  \n",
    "    def __str__(self):\n",
    "        return('Attribute of my child: {}'.format( str(dir(self))))\n",
    "    \n",
    "child = MySecondClass()\n",
    "# สังเกตุ class variable \n",
    "print(me.counter)\n",
    "print(child.counter)\n",
    "\n",
    "\n",
    "\n"
   ]
  },
  {
   "cell_type": "code",
   "execution_count": 3,
   "metadata": {},
   "outputs": [
    {
     "name": "stdout",
     "output_type": "stream",
     "text": [
      "created a new instance  Override Print\n",
      "['_MyFirstclass__x', '__class__', '__delattr__', '__dict__', '__dir__', '__doc__', '__eq__', '__format__', '__ge__', '__getattribute__', '__gt__', '__hash__', '__init__', '__init_subclass__', '__le__', '__lt__', '__module__', '__ne__', '__new__', '__reduce__', '__reduce_ex__', '__repr__', '__setattr__', '__sizeof__', '__str__', '__subclasshook__', '__weakref__', '_x', 'counter', 'data', 'get_x', 'set_x', 'x']\n",
      "Override X\n",
      "4\n",
      "4\n",
      "4\n"
     ]
    }
   ],
   "source": [
    "class MyThirdClass(MySecondClass):\n",
    "    def __init__(self):\n",
    "        MySecondClass.__init__(self)\n",
    "        self.x = 'Override X'\n",
    "        \n",
    "    def __str__(self):\n",
    "        return ('Override Print')\n",
    "    \n",
    "grandChild = MyThirdClass()\n",
    "\n",
    "#check attributes of grandChild \n",
    "print(dir(grandChild))\n",
    "\n",
    "#เรียก override __str__ ของตัวเอง   \n",
    "print(grandChild.x)\n",
    "\n",
    "#Check class variable value\n",
    "print(me.counter)\n",
    "print(child.counter)\n",
    "print(grandChild.counter)"
   ]
  },
  {
   "cell_type": "markdown",
   "metadata": {},
   "source": [
    "# Section 2\n",
    "\n",
    "ตอบคำถามต่อไปนี้ \n",
    "\n",
    "1) ให้คำนิยามของ a class และ  an instance?\n",
    "\n",
    "\n",
    "2) อะไรคือ ความสัมพันธ์ ระหว่าง a class และ an instance?\n",
    "\n",
    "\n",
    "3) วัตถุประสงค์ของ self ที่ใช้ใน class คือ? \n",
    "\n",
    "\n",
    "4) วัตถุประสงค์ของ \\__init\\__ method คือ?\n",
    "\n",
    "\n",
    "5) อธิบายความแตกต่างของ public, protect และ private data attributes ที่ใช้ในภาษา python\n",
    "\n",
    "\n",
    "6) class variable แตกต่างจาก data attribute อย่างไร? \n",
    "\n",
    "\n",
    "7) อธิบายว่าการ inheritance ช่วยหลีกเลี่ยงการเขียน code ซ้ำ ๆ กันได้อย่างไร?\n",
    "\n",
    "\n",
    "8) Class ลูก (child class) สามารถ override attributes (ทำการ redefine attributes) ของคลาสแม่ ได้หรือไม่? \n",
    "\n"
   ]
  },
  {
   "cell_type": "code",
   "execution_count": null,
   "metadata": {},
   "outputs": [],
   "source": []
  }
 ],
 "metadata": {
  "kernelspec": {
   "display_name": "Python 3",
   "language": "python",
   "name": "python3"
  },
  "language_info": {
   "codemirror_mode": {
    "name": "ipython",
    "version": 3
   },
   "file_extension": ".py",
   "mimetype": "text/x-python",
   "name": "python",
   "nbconvert_exporter": "python",
   "pygments_lexer": "ipython3",
   "version": "3.6.5"
  }
 },
 "nbformat": 4,
 "nbformat_minor": 2
}
