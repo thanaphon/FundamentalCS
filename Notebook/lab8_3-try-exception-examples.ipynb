{
 "cells": [
  {
   "cell_type": "markdown",
   "metadata": {},
   "source": [
    "# Try, exception, and assert handles\n",
    "\n",
    "ใบงาน \n",
    "   \n",
    "   1) ให้น้อง ๆ ศึกษาการใช้ try, exception, and assert handles จาก class lecture note  \n",
    "\n",
    "https://drive.google.com/file/d/19wenlSqEKB0XDa-YSAaEKJbJjwR17qih/view?usp=sharing\n",
    "\n",
    "2) ให้น้อง ๆ  แก้ไข function power(a,b)  จาก lab7_0.py \n",
    "    โดยบังคับให้ user input a เเละ b เป็น integer values\n",
    "    กำหนด precondition ให้ค่า b >= 0  โดยใช้ assert keyword  "
   ]
  },
  {
   "cell_type": "code",
   "execution_count": null,
   "metadata": {},
   "outputs": [],
   "source": [
    "def get_ratios(L1, L2):\n",
    "    \"\"\" Assumes: L1 and L2 are lists of equal length of numbers\n",
    "        Returns: a list containing L1[i]/L2[i] \n",
    "    \"\"\"\n",
    "    ratios = []\n",
    "    \n",
    "    for index in range(len(L1)):\n",
    "        try:\n",
    "            ratios.append(L1[index]/L2[index])\n",
    "        except ZeroDivisionError:\n",
    "            ratios.append(float('nan')) #nan = not a number\n",
    "        except:\n",
    "            raise ValueError('get_ratios called with bad arg')\n",
    "\n",
    "    return ratios\n",
    "\n",
    "\n",
    "l1 = [1,2,3,4]\n",
    "l2 = [3,4,0]\n",
    "print(get_ratios(l1,l2))"
   ]
  },
  {
   "cell_type": "code",
   "execution_count": null,
   "metadata": {},
   "outputs": [],
   "source": [
    "tmp = None\n",
    "try:\n",
    "    print('A TEST on a^b')\n",
    "    a = int(input('Please input a as an integer'))\n",
    "    b = int(input('Please input b as an integer'))\n",
    "        \n",
    "except ValueError:\n",
    "    \n",
    "    print('expected integer for the inputs')\n",
    "\n",
    "assert b>0, 'B must be positive'\n",
    "tmp = 1\n",
    "\n",
    "for i in range(0,b):\n",
    "    tmp = tmp*a        \n",
    "    \n",
    "print(tmp)"
   ]
  }
 ],
 "metadata": {
  "kernelspec": {
   "display_name": "Python 3",
   "language": "python",
   "name": "python3"
  },
  "language_info": {
   "codemirror_mode": {
    "name": "ipython",
    "version": 3
   },
   "file_extension": ".py",
   "mimetype": "text/x-python",
   "name": "python",
   "nbconvert_exporter": "python",
   "pygments_lexer": "ipython3",
   "version": "3.6.5"
  }
 },
 "nbformat": 4,
 "nbformat_minor": 2
}
