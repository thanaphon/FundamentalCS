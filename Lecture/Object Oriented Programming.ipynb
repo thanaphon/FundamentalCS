{
 "cells": [
  {
   "cell_type": "markdown",
   "metadata": {},
   "source": [
    "SYNTAX: \n",
    "\n",
    "class ClassName:\n",
    "    <statement-1>\n",
    "    .\n",
    "    .\n",
    "    .\n",
    "    <statement-N>\n",
    "    \n",
    "https://docs.python.org/3.7/tutorial/classes.html\n"
   ]
  },
  {
   "cell_type": "code",
   "execution_count": 11,
   "metadata": {},
   "outputs": [
    {
     "name": "stdout",
     "output_type": "stream",
     "text": [
      "<bound method MyClass.f of <__main__.MyClass object at 0x000002B8E7EC6C88>>\n",
      "12345\n",
      "A simple example class\n"
     ]
    }
   ],
   "source": [
    "class MyClass:\n",
    "    \"\"\"A simple example class\"\"\"\n",
    "    i = 12345\n",
    "\n",
    "    def f(self):\n",
    "        return 'hello world'\n",
    "\n",
    "a = MyClass()\n",
    "\n",
    "print(a.f)\n",
    "print(a.i)\n",
    "print(a.__doc__) "
   ]
  },
  {
   "cell_type": "markdown",
   "metadata": {},
   "source": [
    "Coordinate step by step\n",
    "https://goo.gl/XUzWNU"
   ]
  },
  {
   "cell_type": "code",
   "execution_count": 4,
   "metadata": {},
   "outputs": [
    {
     "name": "stdout",
     "output_type": "stream",
     "text": [
      "3 0\n",
      "5.0\n",
      "5.0\n",
      "5.0\n",
      "<3,4>\n"
     ]
    }
   ],
   "source": [
    "class Coordinate(object):\n",
    "    \"\"\" A coordinate made up of an x and y value \"\"\"\n",
    "    def __init__(self, x, y):\n",
    "        \"\"\" Sets the x and y values \"\"\"\n",
    "        self.x = x\n",
    "        self.y = y\n",
    "    def __str__(self):\n",
    "        \"\"\" Returns a string representation of self \"\"\"\n",
    "        return \"<\" + str(self.x) + \",\" + str(self.y) + \">\"\n",
    "    def distance(self, other):\n",
    "        \"\"\" Returns the euclidean distance between two points \"\"\"\n",
    "        x_diff_sq = (self.x-other.x)**2\n",
    "        y_diff_sq = (self.y-other.y)**2\n",
    "        return (x_diff_sq + y_diff_sq)**0.5\n",
    "    \n",
    "c = Coordinate(3,4)\n",
    "origin = Coordinate(0,0)\n",
    "print(c.x, origin.x)\n",
    "print(c.distance(origin))\n",
    "print(Coordinate.distance(c, origin))\n",
    "print(origin.distance(c))\n",
    "print(c)"
   ]
  },
  {
   "cell_type": "markdown",
   "metadata": {},
   "source": [
    "Fraction step by step\n",
    "https://goo.gl/K35BhU "
   ]
  },
  {
   "cell_type": "code",
   "execution_count": 5,
   "metadata": {},
   "outputs": [
    {
     "name": "stdout",
     "output_type": "stream",
     "text": [
      "16/16\n",
      "1.0\n",
      "1.0\n",
      "1.3333333333333333\n"
     ]
    }
   ],
   "source": [
    "class Fraction(object):\n",
    "    \"\"\"\n",
    "    A number represented as a fraction\n",
    "    \"\"\"\n",
    "    def __init__(self, num, denom):\n",
    "        \"\"\" num and denom are integers \"\"\"\n",
    "        assert type(num) == int and type(denom) == int, \"ints not used\"\n",
    "        self.num = num\n",
    "        self.denom = denom\n",
    "    def __str__(self):\n",
    "        \"\"\" Retunrs a string representation of self \"\"\"\n",
    "        return str(self.num) + \"/\" + str(self.denom)\n",
    "    def __add__(self, other):\n",
    "        \"\"\" Returns a new fraction representing the addition \"\"\"\n",
    "        top = self.num*other.denom + self.denom*other.num\n",
    "        bott = self.denom*other.denom\n",
    "        return Fraction(top, bott)\n",
    "    def __sub__(self, other):\n",
    "        \"\"\" Returns a new fraction representing the subtraction \"\"\"\n",
    "        top = self.num*other.denom - self.denom*other.num\n",
    "        bott = self.denom*other.denom\n",
    "        return Fraction(top, bott)\n",
    "    def __float__(self):\n",
    "        \"\"\" Returns a float value of the fraction \"\"\"\n",
    "        return self.num/self.denom\n",
    "    def inverse(self):\n",
    "        \"\"\" Returns a new fraction representing 1/self \"\"\"\n",
    "        return Fraction(self.denom, self.num)\n",
    "\n",
    "a = Fraction(1,4)\n",
    "b = Fraction(3,4)\n",
    "c = a + b # c is a Fraction object\n",
    "print(c)\n",
    "print(float(c))\n",
    "print(Fraction.__float__(c))\n",
    "print(float(b.inverse()))\n",
    "##c = Fraction(3.14, 2.7) # assertion error\n",
    "##print a*b # error, did not define how to multiply two Fraction objects\n"
   ]
  },
  {
   "cell_type": "markdown",
   "metadata": {},
   "source": [
    "Integer Set: step by step  \n",
    "https://goo.gl/ZUZ8f8"
   ]
  },
  {
   "cell_type": "code",
   "execution_count": 7,
   "metadata": {},
   "outputs": [
    {
     "name": "stdout",
     "output_type": "stream",
     "text": [
      "{}\n",
      "{3,4}\n",
      "True\n",
      "False\n",
      "{3,4,6}\n",
      "{3,4,6}\n"
     ]
    }
   ],
   "source": [
    "class intSet(object):\n",
    "    \"\"\"\n",
    "    An intSet is a set of integers\n",
    "    The value is represented by a list of ints, self.vals\n",
    "    Each int in the set occurs in self.vals exactly once\n",
    "    \"\"\"\n",
    "    def __init__(self):\n",
    "        \"\"\" Create an empty set of integers \"\"\"\n",
    "        self.vals = []\n",
    "\n",
    "    def insert(self, e):\n",
    "        \"\"\" Assumes e is an integer and inserts e into self \"\"\"\n",
    "        if not e in self.vals:\n",
    "            self.vals.append(e)\n",
    "\n",
    "    def member(self, e):\n",
    "        \"\"\" Assumes e is an integer\n",
    "        Returns True if e is in self, and False otherwise \"\"\"\n",
    "        return e in self.vals\n",
    "\n",
    "    def remove(self, e):\n",
    "        \"\"\" Assumes e is an integer and removes e from self\n",
    "        Raises ValueError if e is not in self \"\"\"\n",
    "        try:\n",
    "            self.vals.remove(e)\n",
    "        except:\n",
    "            raise ValueError(str(e) + ' not found')\n",
    "\n",
    "    def __str__(self):\n",
    "        \"\"\" Returns a string representation of self \"\"\"\n",
    "        self.vals.sort()\n",
    "        return '{' + ','.join([str(e) for e in self.vals]) + '}'\n",
    "\n",
    "\n",
    "s = intSet()\n",
    "print(s)\n",
    "s.insert(3)\n",
    "s.insert(4)\n",
    "s.insert(3)\n",
    "print(s)\n",
    "print(s.member(3))\n",
    "print(s.member(5))\n",
    "s.insert(6)\n",
    "print(s)\n",
    "#s.remove(3)  # leads to an error\n",
    "print(s)\n",
    "s.remove(3)"
   ]
  },
  {
   "cell_type": "markdown",
   "metadata": {},
   "source": []
  }
 ],
 "metadata": {
  "kernelspec": {
   "display_name": "Python 3",
   "language": "python",
   "name": "python3"
  },
  "language_info": {
   "codemirror_mode": {
    "name": "ipython",
    "version": 3
   },
   "file_extension": ".py",
   "mimetype": "text/x-python",
   "name": "python",
   "nbconvert_exporter": "python",
   "pygments_lexer": "ipython3",
   "version": "3.6.5"
  }
 },
 "nbformat": 4,
 "nbformat_minor": 2
}
