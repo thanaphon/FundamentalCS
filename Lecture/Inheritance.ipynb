{
 "cells": [
  {
   "cell_type": "markdown",
   "metadata": {},
   "source": [
    "# Inheritance "
   ]
  },
  {
   "cell_type": "code",
   "execution_count": 2,
   "metadata": {},
   "outputs": [],
   "source": [
    "import random\n",
    "\n",
    "#################################\n",
    "## Animal abstract data type \n",
    "#################################\n",
    "class Animal(object):\n",
    "    def __init__(self, age):\n",
    "        self.age = age\n",
    "        self.name = None\n",
    "    def get_age(self):\n",
    "        return self.age\n",
    "    def get_name(self):\n",
    "        return self.name\n",
    "    def set_age(self, newage):\n",
    "        self.age = newage\n",
    "    def set_name(self, newname=\"\"):\n",
    "        self.name = newname\n",
    "    def __str__(self):\n",
    "        return \"animal:\"+str(self.name)+\":\"+str(self.age)\n",
    "    "
   ]
  },
  {
   "cell_type": "code",
   "execution_count": 3,
   "metadata": {},
   "outputs": [
    {
     "name": "stdout",
     "output_type": "stream",
     "text": [
      "\n",
      "---- animal tests ----\n",
      "animal:None:4\n",
      "4\n",
      "animal:fluffy:4\n",
      "animal::4\n"
     ]
    }
   ],
   "source": [
    "print(\"\\n---- animal tests ----\")\n",
    "a = Animal(4)\n",
    "print(a)\n",
    "print(a.get_age())\n",
    "a.set_name(\"fluffy\")\n",
    "print(a)\n",
    "a.set_name()\n",
    "print(a)"
   ]
  },
  {
   "cell_type": "code",
   "execution_count": 4,
   "metadata": {},
   "outputs": [],
   "source": [
    "#################################\n",
    "## Inheritance example \n",
    "#################################\n",
    "class Cat(Animal):\n",
    "    def speak(self):\n",
    "        print(\"meow\")\n",
    "    def __str__(self):\n",
    "        return \"cat:\"+str(self.name)+\":\"+str(self.age)"
   ]
  },
  {
   "cell_type": "code",
   "execution_count": 5,
   "metadata": {},
   "outputs": [
    {
     "name": "stdout",
     "output_type": "stream",
     "text": [
      "\n",
      "---- cat tests ----\n",
      "cat:fluffy:5\n",
      "meow\n",
      "5\n"
     ]
    }
   ],
   "source": [
    "    \n",
    "print(\"\\n---- cat tests ----\")\n",
    "c = Cat(5)\n",
    "c.set_name(\"fluffy\")\n",
    "print(c)\n",
    "c.speak()\n",
    "print(c.get_age())\n",
    "#a.speak() # error because there is no speak method for Animal class\n",
    "\n"
   ]
  },
  {
   "cell_type": "code",
   "execution_count": 7,
   "metadata": {},
   "outputs": [],
   "source": [
    "#################################\n",
    "## Inheritance example\n",
    "#################################\n",
    "class Person(Animal):\n",
    "    def __init__(self, name, age):\n",
    "        Animal.__init__(self, age)\n",
    "        self.set_name(name)\n",
    "        self.friends = []\n",
    "    def get_friends(self):\n",
    "        return self.friends\n",
    "    def speak(self):\n",
    "        print(\"hello\")\n",
    "    def add_friend(self, fname):\n",
    "        if fname not in self.friends:\n",
    "            self.friends.append(fname)\n",
    "    def age_diff(self, other):\n",
    "        diff = self.age - other.age\n",
    "        print(abs(diff), \"year difference\")\n",
    "    def __str__(self):\n",
    "        return \"person:\"+str(self.name)+\":\"+str(self.age)"
   ]
  },
  {
   "cell_type": "code",
   "execution_count": 8,
   "metadata": {},
   "outputs": [
    {
     "name": "stdout",
     "output_type": "stream",
     "text": [
      "\n",
      "---- person tests ----\n",
      "jack\n",
      "30\n",
      "jill\n",
      "25\n",
      "person:jack:30\n",
      "hello\n",
      "5 year difference\n"
     ]
    }
   ],
   "source": [
    "print(\"\\n---- person tests ----\")\n",
    "p1 = Person(\"jack\", 30)\n",
    "p2 = Person(\"jill\", 25)\n",
    "print(p1.get_name())\n",
    "print(p1.get_age())\n",
    "print(p2.get_name())\n",
    "print(p2.get_age())\n",
    "print(p1)\n",
    "p1.speak()\n",
    "p1.age_diff(p2)"
   ]
  },
  {
   "cell_type": "code",
   "execution_count": 9,
   "metadata": {},
   "outputs": [],
   "source": [
    "#################################\n",
    "## Inheritance example\n",
    "#################################\n",
    "class Student(Person):\n",
    "    def __init__(self, name, age, major=None):\n",
    "        Person.__init__(self, name, age)\n",
    "        self.major = major\n",
    "    def __str__(self):\n",
    "        return \"student:\"+str(self.name)+\":\"+str(self.age)+\":\"+str(self.major)\n",
    "    def change_major(self, major):\n",
    "        self.major = major\n",
    "    def speak(self):\n",
    "        r = random.random()\n",
    "        if r < 0.25:\n",
    "            print(\"i have homework\")\n",
    "        elif 0.25 <= r < 0.5:\n",
    "            print(\"i need sleep\")\n",
    "        elif 0.5 <= r < 0.75:\n",
    "            print(\"i should eat\")\n",
    "        else:\n",
    "            print(\"i am watching tv\")"
   ]
  },
  {
   "cell_type": "code",
   "execution_count": 10,
   "metadata": {},
   "outputs": [
    {
     "name": "stdout",
     "output_type": "stream",
     "text": [
      "\n",
      "---- student tests ----\n",
      "student:alice:20:CS\n",
      "student:beth:18:None\n",
      "alice says: i need sleep\n",
      "beth says: i am watching tv\n"
     ]
    }
   ],
   "source": [
    "print(\"\\n---- student tests ----\")\n",
    "s1 = Student('alice', 20, \"CS\")\n",
    "s2 = Student('beth', 18)\n",
    "print(s1)\n",
    "print(s2)\n",
    "print(s1.get_name(),\"says:\", end=\" \")\n",
    "s1.speak()\n",
    "print(s2.get_name(),\"says:\", end=\" \")\n",
    "s2.speak()"
   ]
  },
  {
   "cell_type": "code",
   "execution_count": 11,
   "metadata": {},
   "outputs": [],
   "source": [
    "#################################\n",
    "## Use of class variables  \n",
    "#################################\n",
    "class Rabbit(Animal):\n",
    "    # a class variable, tag, shared across all instances\n",
    "    tag = 1\n",
    "    def __init__(self, age, parent1=None, parent2=None):\n",
    "        Animal.__init__(self, age)\n",
    "        self.parent1 = parent1\n",
    "        self.parent2 = parent2\n",
    "        self.rid = Rabbit.tag\n",
    "        Rabbit.tag += 1\n",
    "    def get_rid(self):\n",
    "        # zfill used to add leading zeroes 001 instead of 1\n",
    "        return str(self.rid).zfill(3)\n",
    "    def get_parent1(self):\n",
    "        return self.parent1\n",
    "    def get_parent2(self):\n",
    "        return self.parent2\n",
    "    def __add__(self, other):\n",
    "        # returning object of same type as this class\n",
    "        return Rabbit(0, self, other)\n",
    "    def __eq__(self, other):\n",
    "        # compare the ids of self and other's parents\n",
    "        # don't care about the order of the parents\n",
    "        # the backslash tells python I want to break up my line\n",
    "        parents_same = self.parent1.rid == other.parent1.rid \\\n",
    "                       and self.parent2.rid == other.parent2.rid\n",
    "        parents_opposite = self.parent2.rid == other.parent1.rid \\\n",
    "                           and self.parent1.rid == other.parent2.rid\n",
    "        return parents_same or parents_opposite\n",
    "    def __str__(self):\n",
    "        return \"rabbit:\"+ self.get_rid()"
   ]
  },
  {
   "cell_type": "code",
   "execution_count": 13,
   "metadata": {},
   "outputs": [
    {
     "name": "stdout",
     "output_type": "stream",
     "text": [
      "\n",
      "---- rabbit tests ----\n",
      "---- testing creating rabbits ----\n",
      "r1: rabbit:007\n",
      "r2: rabbit:008\n",
      "r3: rabbit:009\n",
      "r1 parent1: None\n",
      "r1 parent2: None\n"
     ]
    }
   ],
   "source": [
    "print(\"\\n---- rabbit tests ----\")\n",
    "print(\"---- testing creating rabbits ----\")\n",
    "r1 = Rabbit(3)\n",
    "r2 = Rabbit(4)\n",
    "r3 = Rabbit(5)\n",
    "print(\"r1:\", r1)\n",
    "print(\"r2:\", r2)\n",
    "print(\"r3:\", r3)\n",
    "print(\"r1 parent1:\", r1.get_parent1())\n",
    "print(\"r1 parent2:\", r1.get_parent2())\n",
    "\n"
   ]
  },
  {
   "cell_type": "code",
   "execution_count": 14,
   "metadata": {},
   "outputs": [
    {
     "name": "stdout",
     "output_type": "stream",
     "text": [
      "---- testing rabbit addition ----\n",
      "r1: rabbit:007\n",
      "r2: rabbit:008\n",
      "r4: rabbit:010\n",
      "r4 parent1: rabbit:007\n",
      "r4 parent2: rabbit:008\n"
     ]
    }
   ],
   "source": [
    "print(\"---- testing rabbit addition ----\")\n",
    "r4 = r1+r2   # r1.__add__(r2)\n",
    "print(\"r1:\", r1)\n",
    "print(\"r2:\", r2)\n",
    "print(\"r4:\", r4)\n",
    "print(\"r4 parent1:\", r4.get_parent1())\n",
    "print(\"r4 parent2:\", r4.get_parent2())\n"
   ]
  },
  {
   "cell_type": "code",
   "execution_count": 15,
   "metadata": {},
   "outputs": [
    {
     "name": "stdout",
     "output_type": "stream",
     "text": [
      "---- testing rabbit equality ----\n",
      "r3: rabbit:009\n",
      "r4: rabbit:010\n",
      "r5: rabbit:011\n",
      "r6: rabbit:012\n",
      "r5 parent1: rabbit:009\n",
      "r5 parent2: rabbit:010\n",
      "r6 parent1: rabbit:010\n",
      "r6 parent2: rabbit:009\n",
      "r5 and r6 have same parents? True\n",
      "r4 and r6 have same parents? False\n"
     ]
    }
   ],
   "source": [
    "\n",
    "print(\"---- testing rabbit equality ----\")\n",
    "r5 = r3+r4\n",
    "r6 = r4+r3\n",
    "print(\"r3:\", r3)\n",
    "print(\"r4:\", r4)\n",
    "print(\"r5:\", r5)\n",
    "print(\"r6:\", r6)\n",
    "print(\"r5 parent1:\", r5.get_parent1())\n",
    "print(\"r5 parent2:\", r5.get_parent2())\n",
    "print(\"r6 parent1:\", r6.get_parent1())\n",
    "print(\"r6 parent2:\", r6.get_parent2())\n",
    "print(\"r5 and r6 have same parents?\", r5 == r6)\n",
    "print(\"r4 and r6 have same parents?\", r4 == r6)"
   ]
  },
  {
   "cell_type": "code",
   "execution_count": null,
   "metadata": {},
   "outputs": [],
   "source": []
  }
 ],
 "metadata": {
  "kernelspec": {
   "display_name": "Python 3",
   "language": "python",
   "name": "python3"
  },
  "language_info": {
   "codemirror_mode": {
    "name": "ipython",
    "version": 3
   },
   "file_extension": ".py",
   "mimetype": "text/x-python",
   "name": "python",
   "nbconvert_exporter": "python",
   "pygments_lexer": "ipython3",
   "version": "3.6.5"
  }
 },
 "nbformat": 4,
 "nbformat_minor": 2
}
